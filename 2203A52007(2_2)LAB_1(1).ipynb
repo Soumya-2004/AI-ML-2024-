{
  "nbformat": 4,
  "nbformat_minor": 0,
  "metadata": {
    "colab": {
      "provenance": []
    },
    "kernelspec": {
      "name": "python3",
      "display_name": "Python 3"
    },
    "language_info": {
      "name": "python"
    }
  },
  "cells": [
    {
      "cell_type": "code",
      "execution_count": 1,
      "metadata": {
        "id": "xdsMRv71ZpXu"
      },
      "outputs": [],
      "source": [
        "import numpy as np\n",
        "import pandas as pd"
      ]
    },
    {
      "cell_type": "code",
      "source": [
        "list1=[31,32,33]\n",
        "array1=np.array(list1)\n",
        "print(\"list=\",list1)\n",
        "print(\"array=\",array1)\n",
        "type(list1)\n",
        "type(array1)"
      ],
      "metadata": {
        "colab": {
          "base_uri": "https://localhost:8080/"
        },
        "id": "5v0jE0llZ99z",
        "outputId": "c21010f4-c9b3-4cdc-ff6d-79610d674f84"
      },
      "execution_count": 2,
      "outputs": [
        {
          "output_type": "stream",
          "name": "stdout",
          "text": [
            "list= [31, 32, 33]\n",
            "array= [31 32 33]\n"
          ]
        },
        {
          "output_type": "execute_result",
          "data": {
            "text/plain": [
              "numpy.ndarray"
            ]
          },
          "metadata": {},
          "execution_count": 2
        }
      ]
    },
    {
      "cell_type": "code",
      "source": [
        "list1=[]\n",
        "n=int(input(\"enter number of elements:\"))\n",
        "for i in range (n):\n",
        "  k=int(input())\n",
        "  list1.append(k)\n",
        "print(list1)\n"
      ],
      "metadata": {
        "colab": {
          "base_uri": "https://localhost:8080/"
        },
        "id": "lDCAgOhmZ_hG",
        "outputId": "542b00ef-9e1a-44ca-e841-2e97d3fd4950"
      },
      "execution_count": 3,
      "outputs": [
        {
          "output_type": "stream",
          "name": "stdout",
          "text": [
            "enter number of elements:3\n",
            "21\n",
            "22\n",
            "23\n",
            "[21, 22, 23]\n"
          ]
        }
      ]
    },
    {
      "cell_type": "code",
      "source": [
        "type(list1)"
      ],
      "metadata": {
        "colab": {
          "base_uri": "https://localhost:8080/"
        },
        "id": "iWjx7YSKaB6K",
        "outputId": "a9961bdf-2260-44be-b994-22634dee8251"
      },
      "execution_count": 4,
      "outputs": [
        {
          "output_type": "execute_result",
          "data": {
            "text/plain": [
              "list"
            ]
          },
          "metadata": {},
          "execution_count": 4
        }
      ]
    },
    {
      "cell_type": "code",
      "source": [
        "type(array1)"
      ],
      "metadata": {
        "colab": {
          "base_uri": "https://localhost:8080/"
        },
        "id": "6T89rhawaEA5",
        "outputId": "0ca865c8-5ae5-46fd-dfd2-50c50efce3a4"
      },
      "execution_count": 5,
      "outputs": [
        {
          "output_type": "execute_result",
          "data": {
            "text/plain": [
              "numpy.ndarray"
            ]
          },
          "metadata": {},
          "execution_count": 5
        }
      ]
    },
    {
      "cell_type": "code",
      "source": [
        "l1=[54,69,32]\n",
        "l2=[5,6,4]\n",
        "a=np.add(l1,l2)\n",
        "print(\"addition:\",a)\n",
        "s=np.subtract(l1,l2)\n",
        "print(\"subtraction:\",s)\n",
        "m=np.multiply(l1,l2)\n",
        "print(\"multiplication:\",m)\n",
        "d=np.divide(l1,l2)\n",
        "print(\"division:\",d)\n",
        "p=np.power(l1,l2)\n",
        "print(\"powerof:\",p)"
      ],
      "metadata": {
        "colab": {
          "base_uri": "https://localhost:8080/"
        },
        "id": "fa6MVQQZaFtF",
        "outputId": "5dcb0fdc-0e5e-4d83-a5ba-ba1eec7cda74"
      },
      "execution_count": 6,
      "outputs": [
        {
          "output_type": "stream",
          "name": "stdout",
          "text": [
            "addition: [59 75 36]\n",
            "subtraction: [49 63 28]\n",
            "multiplication: [270 414 128]\n",
            "division: [10.8 11.5  8. ]\n",
            "powerof: [   459165024 107918163081      1048576]\n"
          ]
        }
      ]
    },
    {
      "cell_type": "code",
      "source": [
        "import numpy as np\n",
        "x1=np.array(input())\n",
        "x2=np.array(input())\n",
        "\n",
        "\n",
        "print(\"Array1:\")\n",
        "print(x1)\n",
        "\n",
        "print(\"Array2:\")\n",
        "print(x2)\n",
        "\n",
        "new_array= np.char.add(x1, x2)\n",
        "\n",
        "print(\"New array:\")\n",
        "print(new_array)\n"
      ],
      "metadata": {
        "colab": {
          "base_uri": "https://localhost:8080/"
        },
        "id": "Pkftri2CaIJD",
        "outputId": "43292b48-4805-4bf1-9591-c7d32e5448c1"
      },
      "execution_count": 8,
      "outputs": [
        {
          "output_type": "stream",
          "name": "stdout",
          "text": [
            "hello\n",
            "sru\n",
            "Array1:\n",
            "hello\n",
            "Array2:\n",
            "sru\n",
            "New array:\n",
            "hellosru\n"
          ]
        }
      ]
    },
    {
      "cell_type": "code",
      "source": [
        "a=int(input())\n",
        "print(\"sin:\",np.sin(a))\n",
        "print(\"log:\",np.log(a))\n",
        "print(\"log2:\",np.log2(a))\n",
        "print(\"exp:\",np.exp(a))"
      ],
      "metadata": {
        "colab": {
          "base_uri": "https://localhost:8080/"
        },
        "id": "EXk0zCIKaLdf",
        "outputId": "7f9b295f-b6db-484e-89c5-98b45fb5d5c2"
      },
      "execution_count": 9,
      "outputs": [
        {
          "output_type": "stream",
          "name": "stdout",
          "text": [
            "45\n",
            "sin: 0.8509035245341184\n",
            "log: 3.8066624897703196\n",
            "log2: 5.491853096329675\n",
            "exp: 3.4934271057485095e+19\n"
          ]
        }
      ]
    }
  ]
}